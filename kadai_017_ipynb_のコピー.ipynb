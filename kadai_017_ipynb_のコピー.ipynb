{
  "nbformat": 4,
  "nbformat_minor": 0,
  "metadata": {
    "colab": {
      "provenance": [],
      "authorship_tag": "ABX9TyO4F0nZ1P9DkIhvouFJ8U0q"
    },
    "kernelspec": {
      "name": "python3",
      "display_name": "Python 3"
    },
    "language_info": {
      "name": "python"
    }
  },
  "cells": [
    {
      "cell_type": "code",
      "source": [
        "class Human:\n",
        "  def __init__(self,name,age):\n",
        "\n",
        "    self.name = name\n",
        "    self.age = age\n",
        "\n",
        "  def check_adult(self):\n",
        "    if self.age >= 20:\n",
        "          return('大人である')\n",
        "    else:\n",
        "          return('大人でない')\n",
        "\n",
        "  def printinfo(self):\n",
        "    print(self.name)\n",
        "    print(self.age)"
      ],
      "metadata": {
        "id": "SQui1pTatJkt"
      },
      "execution_count": 6,
      "outputs": []
    },
    {
      "cell_type": "code",
      "source": [
        "human1 = Human('たろう',25)\n",
        "human2 = Human('はなこ',19)\n",
        "human3 = Human('ゆう',20)\n",
        "\n",
        "list = [human1,human2,human3]\n",
        "for j in list:\n",
        "  print(j.check_adult())"
      ],
      "metadata": {
        "colab": {
          "base_uri": "https://localhost:8080/"
        },
        "id": "aePHoPJ6Kzb6",
        "outputId": "3f595c28-ad5d-4b35-bc1b-47b8720ffa92"
      },
      "execution_count": 7,
      "outputs": [
        {
          "output_type": "stream",
          "name": "stdout",
          "text": [
            "大人である\n",
            "大人でない\n",
            "大人である\n"
          ]
        }
      ]
    },
    {
      "cell_type": "code",
      "source": [],
      "metadata": {
        "id": "l7GIWfFcIyRt"
      },
      "execution_count": null,
      "outputs": []
    }
  ]
}
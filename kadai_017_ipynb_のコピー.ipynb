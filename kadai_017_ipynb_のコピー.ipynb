{
  "nbformat": 4,
  "nbformat_minor": 0,
  "metadata": {
    "colab": {
      "provenance": [],
      "authorship_tag": "ABX9TyPM3WmZ5svJ7XGB4fakNWeL"
    },
    "kernelspec": {
      "name": "python3",
      "display_name": "Python 3"
    },
    "language_info": {
      "name": "python"
    }
  },
  "cells": [
    {
      "cell_type": "code",
      "source": [
        "class Human:\n",
        "  def __init__(self,name,age):\n",
        "\n",
        "    self.name = name\n",
        "    self.age = age\n",
        "\n",
        "  def check_adult(self):\n",
        "    if self.age >= 20:\n",
        "          print('大人である')\n",
        "    else:\n",
        "          print('大人でない')\n",
        "\n",
        "  def printinfo(self):\n",
        "    print(self.name)\n",
        "    print(self.age)"
      ],
      "metadata": {
        "id": "SQui1pTatJkt"
      },
      "execution_count": 126,
      "outputs": []
    },
    {
      "cell_type": "code",
      "source": [
        "human1 = Human('たろう',25)\n",
        "human2 = Human('はなこ',19)\n",
        "human3 = Human('ゆう',20)\n",
        "\n",
        "list = [human1,human2,human3]\n",
        "for j in list:\n",
        "  print(j.check_adult())"
      ],
      "metadata": {
        "colab": {
          "base_uri": "https://localhost:8080/"
        },
        "id": "aePHoPJ6Kzb6",
        "outputId": "d769d6c5-c402-4b5b-a225-c55f6cfe8bc8"
      },
      "execution_count": 127,
      "outputs": [
        {
          "output_type": "stream",
          "name": "stdout",
          "text": [
            "大人である\n",
            "None\n",
            "大人でない\n",
            "None\n",
            "大人である\n",
            "None\n"
          ]
        }
      ]
    },
    {
      "cell_type": "code",
      "source": [],
      "metadata": {
        "id": "l7GIWfFcIyRt"
      },
      "execution_count": null,
      "outputs": []
    }
  ]
}
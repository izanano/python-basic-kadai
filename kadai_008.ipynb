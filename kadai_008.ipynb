{
  "nbformat": 4,
  "nbformat_minor": 0,
  "metadata": {
    "colab": {
      "provenance": [],
      "authorship_tag": "ABX9TyOmR5I81vmtkEwPTO4xkrCN"
    },
    "kernelspec": {
      "name": "python3",
      "display_name": "Python 3"
    },
    "language_info": {
      "name": "python"
    }
  },
  "cells": [
    {
      "cell_type": "code",
      "source": [
        "var = 9\n",
        "if var % 3 == 0 and var % 5 == 0:\n",
        "    print('FizzBizz')\n",
        "elif var % 3 == 0 :\n",
        "    print('Fizz')\n",
        "elif var % 5 == 0:\n",
        "    print('Bizz')\n",
        "else:\n",
        "    print(var)"
      ],
      "metadata": {
        "id": "8UsobjF9_MwK"
      },
      "execution_count": null,
      "outputs": []
    },
    {
      "cell_type": "code",
      "source": [],
      "metadata": {
        "id": "4nEqeP1jD72-"
      },
      "execution_count": null,
      "outputs": []
    }
  ]
}
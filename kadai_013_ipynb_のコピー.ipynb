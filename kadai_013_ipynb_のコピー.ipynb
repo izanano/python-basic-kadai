{
  "nbformat": 4,
  "nbformat_minor": 0,
  "metadata": {
    "colab": {
      "provenance": [],
      "authorship_tag": "ABX9TyPz4dqQZfvRxnHX9FeSlmKs"
    },
    "kernelspec": {
      "name": "python3",
      "display_name": "Python 3"
    },
    "language_info": {
      "name": "python"
    }
  },
  "cells": [
    {
      "cell_type": "code",
      "source": [
        "def total_price(price,tax):\n",
        "  total = price * (1+(tax/100))\n",
        "  print(total)"
      ],
      "metadata": {
        "id": "znD44UXZ9_Sb"
      },
      "execution_count": 37,
      "outputs": []
    },
    {
      "cell_type": "code",
      "source": [
        "total_price(1000,10)"
      ],
      "metadata": {
        "colab": {
          "base_uri": "https://localhost:8080/"
        },
        "id": "ml1Vb3_vDvmh",
        "outputId": "0ad65aa8-e76a-415b-f36b-1e22bf7db5af"
      },
      "execution_count": 46,
      "outputs": [
        {
          "output_type": "stream",
          "name": "stdout",
          "text": [
            "1100.0\n"
          ]
        }
      ]
    },
    {
      "cell_type": "code",
      "source": [],
      "metadata": {
        "id": "hXrnHo5OH0D7"
      },
      "execution_count": null,
      "outputs": []
    }
  ]
}
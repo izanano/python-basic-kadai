{
  "nbformat": 4,
  "nbformat_minor": 0,
  "metadata": {
    "colab": {
      "provenance": [],
      "authorship_tag": "ABX9TyOdhb6gfNDntbNjYYppApIn",
      "include_colab_link": true
    },
    "kernelspec": {
      "name": "python3",
      "display_name": "Python 3"
    },
    "language_info": {
      "name": "python"
    }
  },
  "cells": [
    {
      "cell_type": "markdown",
      "metadata": {
        "id": "view-in-github",
        "colab_type": "text"
      },
      "source": [
        "<a href=\"https://colab.research.google.com/github/izanano/python-basic-kadai/blob/main/kadai_005.ipynb\" target=\"_parent\"><img src=\"https://colab.research.google.com/assets/colab-badge.svg\" alt=\"Open In Colab\"/></a>"
      ]
    },
    {
      "cell_type": "code",
      "source": [
        "#台形の面積\n",
        "#単位は㎝\n",
        "upper_side = 10\n",
        "lower_side = 20\n",
        "height = 5\n",
        "\n",
        "area = (upper_side + lower_side) * height / 2\n",
        "print('台形の面積は' + str(area) + '㎠です')"
      ],
      "metadata": {
        "id": "NabWEmLUg47Y",
        "colab": {
          "base_uri": "https://localhost:8080/"
        },
        "outputId": "dc21fbc2-e597-456b-c1e0-d9c018dacf3c"
      },
      "execution_count": null,
      "outputs": [
        {
          "output_type": "stream",
          "name": "stdout",
          "text": [
            "台形の面積は75.0㎠です\n"
          ]
        }
      ]
    }
  ]
}